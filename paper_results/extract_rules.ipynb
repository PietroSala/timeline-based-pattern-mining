{
 "cells": [
  {
   "cell_type": "code",
   "execution_count": 8,
   "metadata": {},
   "outputs": [
    {
     "data": {
      "text/plain": [
       "<sqlite3.Cursor at 0x7fe1b1fb1c00>"
      ]
     },
     "execution_count": 8,
     "metadata": {},
     "output_type": "execute_result"
    }
   ],
   "source": [
    "import sqlite3\n",
    "import ast\n",
    "\n",
    "P = \"p01\"\n",
    "\n",
    "conn = sqlite3.connect(f'{P}.sqlite')\n",
    "cursor = conn.cursor()\n",
    "\n",
    "cursor.execute('''SELECT count(*)\n",
    "               FROM frequent_itemsets AS A\n",
    "               JOIN frequent_itemsets AS B\n",
    "               ON A.timestamp < B.timestamp AND\n",
    "               B.support/A.support >= 0.8 AND B.support <= A.support\n",
    "               ''')\n",
    "\n",
    "l = cursor.fetchone()\n",
    "\n",
    "cursor.execute('''SELECT DISTINCT A.itemset, A.support,  B.itemset, B.support, B.support/A.support\n",
    "               FROM frequent_itemsets AS A\n",
    "               JOIN frequent_itemsets AS B\n",
    "               ON A.timestamp < B.timestamp AND\n",
    "               B.support/A.support >= 0.8 AND B.support <= A.support\n",
    "               ''')"
   ]
  },
  {
   "cell_type": "code",
   "execution_count": 11,
   "metadata": {},
   "outputs": [],
   "source": [
    "total = l[0]"
   ]
  },
  {
   "cell_type": "code",
   "execution_count": 2,
   "metadata": {},
   "outputs": [],
   "source": [
    "%run intervalRegex.ipynb      #  REGULAR EXPRESSION UTILITIES  MATCHING\n",
    "%run intervalStructure.ipynb  #  FOR MATCHING TIMELINES"
   ]
  },
  {
   "cell_type": "code",
   "execution_count": 12,
   "metadata": {},
   "outputs": [],
   "source": [
    "from tqdm import tqdm"
   ]
  },
  {
   "cell_type": "code",
   "execution_count": 13,
   "metadata": {},
   "outputs": [
    {
     "name": "stderr",
     "output_type": "stream",
     "text": [
      "100%|██████████| 5449163/5449163 [51:29<00:00, 1763.76it/s]  \n"
     ]
    }
   ],
   "source": [
    "p_file = f'rules-{P}.csv'\n",
    "with open(p_file, 'w') as file:\n",
    "    file.write('X, XY, supX, supXY, conf \\n')\n",
    "for _ in tqdm(range(total)): \n",
    "    current = cursor.fetchone()\n",
    "    t1  = ast.literal_eval(current[0])\n",
    "    t2  = ast.literal_eval(current[2])\n",
    "    tt1 = baseLexRepr(intervals_to_words(dict_to_list(t1)))\n",
    "    tt2 = baseLexRepr(intervals_to_words(dict_to_list(t2)))\n",
    "    if re.search(tt1.as_regex, tt2.as_searchable_string):\n",
    "        with open(p_file, 'a') as file:\n",
    "            file.write(f\"{tt1.as_searchable_string},{tt2.as_searchable_string},{current[1]},{current[3]},{current[-1]} \\n\")\n",
    "    "
   ]
  },
  {
   "cell_type": "code",
   "execution_count": null,
   "metadata": {},
   "outputs": [],
   "source": []
  }
 ],
 "metadata": {
  "kernelspec": {
   "display_name": "base",
   "language": "python",
   "name": "python3"
  },
  "language_info": {
   "codemirror_mode": {
    "name": "ipython",
    "version": 3
   },
   "file_extension": ".py",
   "mimetype": "text/x-python",
   "name": "python",
   "nbconvert_exporter": "python",
   "pygments_lexer": "ipython3",
   "version": "3.9.12"
  },
  "orig_nbformat": 4
 },
 "nbformat": 4,
 "nbformat_minor": 2
}
